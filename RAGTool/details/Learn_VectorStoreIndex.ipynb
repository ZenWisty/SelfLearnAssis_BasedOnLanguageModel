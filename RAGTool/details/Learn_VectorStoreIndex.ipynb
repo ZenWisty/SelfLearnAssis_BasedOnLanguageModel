{
 "cells": [
  {
   "cell_type": "markdown",
   "metadata": {},
   "source": [
    "### 关于 VectorStore 和 VectorStoreIndex 以及 StorageContext 的关系和细节"
   ]
  },
  {
   "cell_type": "markdown",
   "metadata": {},
   "source": [
    "#### 1\n",
    "VectorStore 和 VectorStoreIndex 是否都有 add node 的实现\n",
    "1. VectorStoreIndex 的添加节点：\n",
    "   `VectorStoreIndex` 可以从文档构建索引，并且可以添加新的文档（即节点）到索引中。在LlamaIndex中，节点（`Node`）是表示源文档的一个“块”，可以是文本块、图像或其他内容。`VectorStoreIndex` 使用节点的嵌入向量进行索引和检索。\n",
    "    VectorStoreIndex 是 LlamaIndex 中用于创建和管理向量存储、加载文档以及处理更新的索引结构。它接受一组 Node 对象并从中构建索引，这些节点可以是文本块、图像或其他内容的轻量级文本字符串抽象，能够跟踪元数据和关系\n",
    "\n",
    "2. FaissVectorStore 的添加节点：\n",
    "   `FaissVectorStore` 提供了 `add` 方法，可以将 `BaseNode` 对象列表添加到FAISS索引中。这些节点包含了嵌入向量，`FaissVectorStore` 在添加节点时不会在FAISS中存储文本，只存储嵌入向量。\n",
    "    FaissVectorStore 类同样提供了添加节点的接口。在 FaissVectorStore 的API文档中，有一个 add 方法，该方法可以将 BaseNode 对象列表添加到索引中\n",
    " "
   ]
  },
  {
   "cell_type": "markdown",
   "metadata": {},
   "source": [
    "注意llama_index.core 中的 vector_store 必须在初始化的时候传入 files ，而且files 不能为空的文件，否则会有这个错误：\n",
    "File \"D:\\ProgramFiles\\Anaconda\\envs\\metagpt\\Lib\\site-packages\\llama_index\\core\\indices\\vector_store\\base.py\", line 302, in build_index_from_nodes\n",
    "    raise ValueError(\n",
    "ValueError: Cannot build index from nodes with no content. Please ensure all nodes have content."
   ]
  },
  {
   "cell_type": "markdown",
   "metadata": {},
   "source": [
    "创建一个 vectorStoreIndex并保存到 磁盘："
   ]
  },
  {
   "cell_type": "code",
   "execution_count": null,
   "metadata": {},
   "outputs": [],
   "source": [
    "import faiss\n",
    "from llama_index.core import (\n",
    "    SimpleDirectoryReader,\n",
    "    load_index_from_storage,\n",
    "    VectorStoreIndex,\n",
    "    StorageContext,\n",
    ")\n",
    "from llama_index.vector_stores.faiss import FaissVectorStore\n",
    "\n",
    "# 创建一个Faiss索引，这里使用L2距离的Flat索引\n",
    "d = 1536  # 假设嵌入维度为1536\n",
    "faiss_index = faiss.IndexFlatL2(d)\n",
    "\n",
    "# 加载文档数据\n",
    "documents = SimpleDirectoryReader(\"./data/paul_graham/\").load_data()\n",
    "\n",
    "# 构建FaissVectorStore\n",
    "vector_store = FaissVectorStore(faiss_index=faiss_index)\n",
    "\n",
    "# 构建StorageContext\n",
    "storage_context = StorageContext.from_defaults(vector_store=vector_store)\n",
    "\n",
    "# 从文档构建VectorStoreIndex\n",
    "index = VectorStoreIndex.from_documents(documents, storage_context=storage_context)\n",
    "\n",
    "# 将索引保存到磁盘\n",
    "index.storage_context.persist()\n",
    "\n",
    "# 从磁盘加载索引\n",
    "vector_store = FaissVectorStore.from_persist_dir(\"./storage\")\n",
    "storage_context = StorageContext.from_defaults(vector_store=vector_store, persist_dir=\"./storage\")\n",
    "index = load_index_from_storage(storage_context=storage_context)"
   ]
  },
  {
   "cell_type": "markdown",
   "metadata": {},
   "source": [
    "利用 VectorStore 的add接口，在已存储的 VectorStoreIndex 中添加新文件："
   ]
  },
  {
   "cell_type": "code",
   "execution_count": null,
   "metadata": {},
   "outputs": [],
   "source": [
    "from llama_index.nodes import BaseNode\n",
    "# 假设我们有一些新的文档数据\n",
    "new_documents = SimpleDirectoryReader(\"./new_data/\").load_data()\n",
    "\n",
    "# 将新文档转换为节点，并计算它们的嵌入向量\n",
    "# 这里需要一个嵌入模型来计算嵌入向量，假设已经有了这个模型\n",
    "new_nodes = [BaseNode(id=str(i), content=document, embedding=embedding_model.embed(document)) for i, document in enumerate(new_documents)]\n",
    "\n",
    "# 将新节点添加到FaissVectorStore\n",
    "vector_store.add(nodes=new_nodes)\n",
    "\n",
    "# 保存更新后的向量存储到磁盘\n",
    "vector_store.persist(persist_path=\"./storage\")"
   ]
  },
  {
   "cell_type": "markdown",
   "metadata": {},
   "source": [
    "3. VectorStore 和 VectorStoreIndex 所添加的节点是否是同样含义的节点\n",
    "无论是 `VectorStoreIndex` 还是 `FaissVectorStore`，在添加节点时所指的节点都是 `BaseNode` 的实例或其子类的实例。这些节点包含了必要的信息，如ID、内容和嵌入向量。因此，在这个上下文中，所添加的节点是同样含义的节点，它们都代表了要被索引的数据块，并且都包含了用于检索的嵌入向量。\n",
    "\n",
    "总结来说，`VectorStoreIndex` 和 `FaissVectorStore` 都使用 `BaseNode` 或其子类的对象来表示要添加到索引中的节点。这些节点包含了文档的内容和嵌入向量，无论是构建新的索引还是向现有索引添加新节点，所涉及的节点概念是一致的。\n",
    "\n",
    "对比：尽管 FaissVectorStore 提供了存储文档嵌入向量的功能，VectorStoreIndex 提供了额外的索引功能，使其不仅仅是一个简单的向量存储。VectorStoreIndex 允许您构建一个包含多个节点（可以是文档块或其他对象）的索引，并且可以对这些节点进行查询和检索。它还提供了更多的灵活性和功能，例如处理节点的元数据、支持不同类型的查询和检索操作，以及与 LlamaIndex 生态系统中的其他组件（如查询引擎）集成\n"
   ]
  },
  {
   "cell_type": "markdown",
   "metadata": {},
   "source": [
    "#### 2\n",
    "faiss_retriever = FaissRetriever(config)  这个 config 里面包含了什么内容：\n",
    "\n",
    "max_tokens：最大令牌数，用于控制处理文本时的最大令牌数量。\n",
    "max_context_tokens：最大上下文令牌数，用于控制上下文块的最大令牌数量。\n",
    "use_top_k：是否使用top-k策略来选择最相似的上下文块。\n",
    "embedding_model：用于生成文本嵌入的模型，必须是一个继承自BaseEmbeddingModel的实例。\n",
    "question_embedding_model：用于生成问题嵌入的模型，如果未指定，则使用embedding_model。\n",
    "top_k：检索时返回的最相似上下文块的数量。\n",
    "tokenizer：用于文本分词的tokenizer实例。\n",
    "embedding_model_string：嵌入模型的字符串表示，用于日志记录和配置摘要。\n",
    "index_path：Faiss索引文件的存储路径。\n",
    "rebuild_index：是否重建索引，如果设置为True，则会删除旧的索引文件并重建。"
   ]
  },
  {
   "cell_type": "markdown",
   "metadata": {},
   "source": [
    "如何从存储在磁盘上的 VectorStore 构建 VectorStoreIndex 以及如何构建 FaissRetriever 的说明："
   ]
  },
  {
   "cell_type": "code",
   "execution_count": null,
   "metadata": {},
   "outputs": [],
   "source": [
    "#您需要从磁盘加载 VectorStore。如果您使用的是 FaissVectorStore，可以使用 from_persist_dir 方法来加载\n",
    "from llama_index.vector_stores.faiss import FaissVectorStore\n",
    "from llama_index.core import StorageContext, load_index_from_storage\n",
    "\n",
    "# 从磁盘加载 FaissVectorStore\n",
    "vector_store = FaissVectorStore.from_persist_dir(\"./storage\")\n",
    "\n",
    "# 使用 load_index_from_storage 方法从 StorageContext 加载 VectorStoreIndex\n",
    "index = load_index_from_storage(storage_context=storage_context)"
   ]
  },
  {
   "cell_type": "markdown",
   "metadata": {},
   "source": [
    "我们需要自己先定义一个 FaissRetriver："
   ]
  },
  {
   "cell_type": "code",
   "execution_count": null,
   "metadata": {},
   "outputs": [],
   "source": [
    "from llama_index.core.retrievers import VectorIndexRetriever\n",
    "from llama_index.core.schema import BaseNode\n",
    "\n",
    "\n",
    "class FAISSRetriever(VectorIndexRetriever):\n",
    "    \"\"\"FAISS retriever.\"\"\"\n",
    "\n",
    "    def add_nodes(self, nodes: list[BaseNode], **kwargs) -> None:\n",
    "        \"\"\"Support add nodes.\"\"\"\n",
    "        self._index.insert_nodes(nodes, **kwargs)\n",
    "\n",
    "    def persist(self, persist_dir: str, **kwargs) -> None:\n",
    "        \"\"\"Support persist.\"\"\"\n",
    "        self._index.storage_context.persist(persist_dir)"
   ]
  },
  {
   "cell_type": "markdown",
   "metadata": {},
   "source": [
    "这个自定义的 Retriver 继承了 VectorIndexRetriever，其实中有 这个接口（以下不要运行，因为是摘抄代码的一部分 D:\\ProgramFiles\\Anaconda\\envs\\metagpt\\Lib\\site-packages\\llama_index\\core\\indices\\vector_store\\retrievers\\retriever.py）："
   ]
  },
  {
   "cell_type": "code",
   "execution_count": null,
   "metadata": {},
   "outputs": [],
   "source": [
    "def _retrieve(\n",
    "    self,\n",
    "    query_bundle: QueryBundle,\n",
    ") -> List[NodeWithScore]:\n",
    "    if self._vector_store.is_embedding_query:\n",
    "        if query_bundle.embedding is None and len(query_bundle.embedding_strs) > 0:\n",
    "            query_bundle.embedding = (\n",
    "                self._embed_model.get_agg_embedding_from_queries(\n",
    "                    query_bundle.embedding_strs\n",
    "                )\n",
    "            )\n",
    "    return self._get_nodes_with_embeddings(query_bundle)\n",
    "\n",
    "async def _aretrieve(self, query_bundle: QueryBundle) -> List[NodeWithScore]:\n",
    "    if self._vector_store.is_embedding_query:\n",
    "        if query_bundle.embedding is None and len(query_bundle.embedding_strs) > 0:\n",
    "            embed_model = self._embed_model\n",
    "            query_bundle.embedding = (\n",
    "                await embed_model.aget_agg_embedding_from_queries(\n",
    "                    query_bundle.embedding_strs\n",
    "                )\n",
    "            )\n",
    "    return await self._aget_nodes_with_embeddings(query_bundle)"
   ]
  },
  {
   "cell_type": "markdown",
   "metadata": {},
   "source": [
    "而 VectoerIndexRetriever 的初始化需要：\n",
    "\"\"\"Vector index retriever.\n",
    "\n",
    "Args:\n",
    "    index (VectorStoreIndex): vector store index.\n",
    "\n",
    "    similarity_top_k (int): number of top k results to return.\n",
    "\n",
    "    vector_store_query_mode (str): vector store query mode\n",
    "        See reference for VectorStoreQueryMode for full list of supported modes.\n",
    "    filters (Optional[MetadataFilters]): metadata filters, defaults to None\n",
    "\n",
    "    alpha (float): weight for sparse/dense retrieval, only used for\n",
    "        hybrid query mode.\n",
    "\n",
    "    doc_ids (Optional[List[str]]): list of documents to constrain search.\n",
    "    \n",
    "    vector_store_kwargs (dict): Additional vector store specific kwargs to pass\n",
    "        through to the vector store at query time.\n",
    "\n",
    "\"\"\""
   ]
  },
  {
   "cell_type": "markdown",
   "metadata": {},
   "source": [
    "def __init__(\n",
    "    self,\n",
    "    index: VectorStoreIndex,\n",
    "    similarity_top_k: int = DEFAULT_SIMILARITY_TOP_K,\n",
    "    vector_store_query_mode: VectorStoreQueryMode = VectorStoreQueryMode.DEFAULT,\n",
    "    filters: Optional[MetadataFilters] = None,\n",
    "    alpha: Optional[float] = None,\n",
    "    node_ids: Optional[List[str]] = None,\n",
    "    doc_ids: Optional[List[str]] = None,\n",
    "    sparse_top_k: Optional[int] = None,\n",
    "    callback_manager: Optional[CallbackManager] = None,\n",
    "    object_map: Optional[dict] = None,\n",
    "    embed_model: Optional[BaseEmbedding] = None,\n",
    "    verbose: bool = False,\n",
    "    **kwargs: Any,\n",
    ") -> None:"
   ]
  },
  {
   "cell_type": "code",
   "execution_count": null,
   "metadata": {},
   "outputs": [],
   "source": [
    "# FaissRetriever 需要一个配置对象，该对象包含必要的参数，如嵌入模型、索引路径等\n",
    "from llama_index.retrievers import FaissRetriever\n",
    "\n",
    "class Config:\n",
    "    def __init__(self):\n",
    "        self.embedding_model = ...  # 嵌入模型\n",
    "        self.index_path = \"./faiss_index\"  # Faiss索引文件路径\n",
    "        self.top_k = 10  # 检索的top k个最相似的文档\n",
    "\n",
    "config = Config()\n",
    "\n",
    "faiss_retriever = FaissRetriever(config)"
   ]
  }
 ],
 "metadata": {
  "kernelspec": {
   "display_name": "metagpt",
   "language": "python",
   "name": "python3"
  },
  "language_info": {
   "name": "python",
   "version": "3.11.10"
  }
 },
 "nbformat": 4,
 "nbformat_minor": 2
}
